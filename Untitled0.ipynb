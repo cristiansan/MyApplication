{
  "nbformat": 4,
  "nbformat_minor": 0,
  "metadata": {
    "colab": {
      "name": "Untitled0.ipynb",
      "provenance": [],
      "authorship_tag": "ABX9TyPwde/EO4aOawC1ruiABMxm",
      "include_colab_link": true
    },
    "kernelspec": {
      "name": "python3",
      "display_name": "Python 3"
    }
  },
  "cells": [
    {
      "cell_type": "markdown",
      "metadata": {
        "id": "view-in-github",
        "colab_type": "text"
      },
      "source": [
        "<a href=\"https://colab.research.google.com/github/cristiansan/MyApplication/blob/master/Untitled0.ipynb\" target=\"_parent\"><img src=\"https://colab.research.google.com/assets/colab-badge.svg\" alt=\"Open In Colab\"/></a>"
      ]
    },
    {
      "cell_type": "code",
      "metadata": {
        "id": "UNtpzZIm8vg7",
        "colab_type": "code",
        "colab": {}
      },
      "source": [
        "#Install dependecies\n",
        "import numpy as np\n",
        "import pandas as pd\n",
        "from sklearn.tree import DecisionTreeRegressor\n",
        "from sklearn.linear_model import LinearRegression\n",
        "from sklearn.model_selection import train_test_split\n",
        "import matplotlib.pyplot as plt\n",
        "plt.style.use('bmh')\n"
      ],
      "execution_count": null,
      "outputs": []
    },
    {
      "cell_type": "code",
      "metadata": {
        "id": "z142smn_ZA1g",
        "colab_type": "code",
        "colab": {}
      },
      "source": [
        "#load data\n",
        "from google.colab import files\n",
        "uploaded = files.upload()"
      ],
      "execution_count": null,
      "outputs": []
    },
    {
      "cell_type": "code",
      "metadata": {
        "id": "8GZpR0weZzrP",
        "colab_type": "code",
        "colab": {
          "base_uri": "https://localhost:8080/",
          "height": 225
        },
        "outputId": "a2139812-946c-4362-f4a1-be34f633e2bf"
      },
      "source": [
        "#store\n",
        "df = pd.read_csv('NFLX_Stock.csv')\n",
        "df.head(6)"
      ],
      "execution_count": null,
      "outputs": [
        {
          "output_type": "execute_result",
          "data": {
            "text/html": [
              "<div>\n",
              "<style scoped>\n",
              "    .dataframe tbody tr th:only-of-type {\n",
              "        vertical-align: middle;\n",
              "    }\n",
              "\n",
              "    .dataframe tbody tr th {\n",
              "        vertical-align: top;\n",
              "    }\n",
              "\n",
              "    .dataframe thead th {\n",
              "        text-align: right;\n",
              "    }\n",
              "</style>\n",
              "<table border=\"1\" class=\"dataframe\">\n",
              "  <thead>\n",
              "    <tr style=\"text-align: right;\">\n",
              "      <th></th>\n",
              "      <th>Date</th>\n",
              "      <th>Open</th>\n",
              "      <th>High</th>\n",
              "      <th>Low</th>\n",
              "      <th>Close</th>\n",
              "      <th>Adj Close</th>\n",
              "      <th>Volume</th>\n",
              "    </tr>\n",
              "  </thead>\n",
              "  <tbody>\n",
              "    <tr>\n",
              "      <th>0</th>\n",
              "      <td>2019-09-13</td>\n",
              "      <td>18.000000</td>\n",
              "      <td>19.410000</td>\n",
              "      <td>17.500000</td>\n",
              "      <td>18.000000</td>\n",
              "      <td>18.000000</td>\n",
              "      <td>35993700</td>\n",
              "    </tr>\n",
              "    <tr>\n",
              "      <th>1</th>\n",
              "      <td>2019-09-16</td>\n",
              "      <td>18.600000</td>\n",
              "      <td>19.549999</td>\n",
              "      <td>18.299999</td>\n",
              "      <td>18.629999</td>\n",
              "      <td>18.629999</td>\n",
              "      <td>9758100</td>\n",
              "    </tr>\n",
              "    <tr>\n",
              "      <th>2</th>\n",
              "      <td>2019-09-17</td>\n",
              "      <td>18.450001</td>\n",
              "      <td>18.900000</td>\n",
              "      <td>18.200001</td>\n",
              "      <td>18.750000</td>\n",
              "      <td>18.750000</td>\n",
              "      <td>3170900</td>\n",
              "    </tr>\n",
              "    <tr>\n",
              "      <th>3</th>\n",
              "      <td>2019-09-18</td>\n",
              "      <td>18.830000</td>\n",
              "      <td>19.700001</td>\n",
              "      <td>18.629999</td>\n",
              "      <td>19.590000</td>\n",
              "      <td>19.590000</td>\n",
              "      <td>4702500</td>\n",
              "    </tr>\n",
              "    <tr>\n",
              "      <th>4</th>\n",
              "      <td>2019-09-19</td>\n",
              "      <td>20.000000</td>\n",
              "      <td>20.480000</td>\n",
              "      <td>18.309999</td>\n",
              "      <td>18.750000</td>\n",
              "      <td>18.750000</td>\n",
              "      <td>8514900</td>\n",
              "    </tr>\n",
              "    <tr>\n",
              "      <th>5</th>\n",
              "      <td>2019-09-20</td>\n",
              "      <td>18.900000</td>\n",
              "      <td>20.000000</td>\n",
              "      <td>18.770000</td>\n",
              "      <td>19.870001</td>\n",
              "      <td>19.870001</td>\n",
              "      <td>3598300</td>\n",
              "    </tr>\n",
              "  </tbody>\n",
              "</table>\n",
              "</div>"
            ],
            "text/plain": [
              "         Date       Open       High        Low      Close  Adj Close    Volume\n",
              "0  2019-09-13  18.000000  19.410000  17.500000  18.000000  18.000000  35993700\n",
              "1  2019-09-16  18.600000  19.549999  18.299999  18.629999  18.629999   9758100\n",
              "2  2019-09-17  18.450001  18.900000  18.200001  18.750000  18.750000   3170900\n",
              "3  2019-09-18  18.830000  19.700001  18.629999  19.590000  19.590000   4702500\n",
              "4  2019-09-19  20.000000  20.480000  18.309999  18.750000  18.750000   8514900\n",
              "5  2019-09-20  18.900000  20.000000  18.770000  19.870001  19.870001   3598300"
            ]
          },
          "metadata": {
            "tags": []
          },
          "execution_count": 19
        }
      ]
    },
    {
      "cell_type": "code",
      "metadata": {
        "id": "NFzrmf0lbF38",
        "colab_type": "code",
        "colab": {
          "base_uri": "https://localhost:8080/",
          "height": 34
        },
        "outputId": "b6e7b560-f875-4438-ff10-a0bc11acc65b"
      },
      "source": [
        "#trading days number\n",
        "df.shape"
      ],
      "execution_count": null,
      "outputs": [
        {
          "output_type": "execute_result",
          "data": {
            "text/plain": [
              "(228, 7)"
            ]
          },
          "metadata": {
            "tags": []
          },
          "execution_count": 9
        }
      ]
    },
    {
      "cell_type": "code",
      "metadata": {
        "id": "dn-repGkbNJH",
        "colab_type": "code",
        "colab": {
          "base_uri": "https://localhost:8080/",
          "height": 458
        },
        "outputId": "ff8a8fca-24b3-48dd-a74f-a07eda21f7bf"
      },
      "source": [
        "#visualize\n",
        "plt.figure(figsize=(16,8))\n",
        "plt.title(\"Netflix\")\n",
        "plt.xlabel(\"days\")\n",
        "plt.ylabel(\"close price usd($)\")\n",
        "plt.plot(df[\"Close\"])\n",
        "plt.show()"
      ],
      "execution_count": null,
      "outputs": [
        {
          "output_type": "display_data",
          "data": {
            "image/png": "[encoded data removed]",
            "text/plain": [
              "<Figure size 1152x576 with 1 Axes>"
            ]
          },
          "metadata": {
            "tags": [],
            "needs_background": "light"
          }
        }
      ]
    },
    {
      "cell_type": "code",
      "metadata": {
        "id": "RJTBXL0RbyxZ",
        "colab_type": "code",
        "colab": {
          "base_uri": "https://localhost:8080/",
          "height": 254
        },
        "outputId": "7d535d4f-bc91-4b6a-e06e-1bf0b740799f"
      },
      "source": [
        "#get close price\n",
        "df = df[[\"Close\"]]\n",
        "df.head(7)\n"
      ],
      "execution_count": null,
      "outputs": [
        {
          "output_type": "execute_result",
          "data": {
            "text/html": [
              "<div>\n",
              "<style scoped>\n",
              "    .dataframe tbody tr th:only-of-type {\n",
              "        vertical-align: middle;\n",
              "    }\n",
              "\n",
              "    .dataframe tbody tr th {\n",
              "        vertical-align: top;\n",
              "    }\n",
              "\n",
              "    .dataframe thead th {\n",
              "        text-align: right;\n",
              "    }\n",
              "</style>\n",
              "<table border=\"1\" class=\"dataframe\">\n",
              "  <thead>\n",
              "    <tr style=\"text-align: right;\">\n",
              "      <th></th>\n",
              "      <th>Close</th>\n",
              "    </tr>\n",
              "  </thead>\n",
              "  <tbody>\n",
              "    <tr>\n",
              "      <th>0</th>\n",
              "      <td>18.000000</td>\n",
              "    </tr>\n",
              "    <tr>\n",
              "      <th>1</th>\n",
              "      <td>18.629999</td>\n",
              "    </tr>\n",
              "    <tr>\n",
              "      <th>2</th>\n",
              "      <td>18.750000</td>\n",
              "    </tr>\n",
              "    <tr>\n",
              "      <th>3</th>\n",
              "      <td>19.590000</td>\n",
              "    </tr>\n",
              "    <tr>\n",
              "      <th>4</th>\n",
              "      <td>18.750000</td>\n",
              "    </tr>\n",
              "    <tr>\n",
              "      <th>5</th>\n",
              "      <td>19.870001</td>\n",
              "    </tr>\n",
              "    <tr>\n",
              "      <th>6</th>\n",
              "      <td>20.959999</td>\n",
              "    </tr>\n",
              "  </tbody>\n",
              "</table>\n",
              "</div>"
            ],
            "text/plain": [
              "       Close\n",
              "0  18.000000\n",
              "1  18.629999\n",
              "2  18.750000\n",
              "3  19.590000\n",
              "4  18.750000\n",
              "5  19.870001\n",
              "6  20.959999"
            ]
          },
          "metadata": {
            "tags": []
          },
          "execution_count": 20
        }
      ]
    },
    {
      "cell_type": "code",
      "metadata": {
        "id": "EpWGWWNRcCqY",
        "colab_type": "code",
        "colab": {
          "base_uri": "https://localhost:8080/",
          "height": 166
        },
        "outputId": "d997cf38-bc32-4f40-ab70-949379d6e88a"
      },
      "source": [
        "#create variable predict \"X\" days out into the future\n",
        "future_days = 25\n",
        "#create a new column (target) shifted \"x\" unit/days up\n",
        "df[\"Prediction\"] = df[[\"Close\"]].shift(-future_days)\n",
        "df.head(4)\n"
      ],
      "execution_count": null,
      "outputs": [
        {
          "output_type": "execute_result",
          "data": {
            "text/html": [
              "<div>\n",
              "<style scoped>\n",
              "    .dataframe tbody tr th:only-of-type {\n",
              "        vertical-align: middle;\n",
              "    }\n",
              "\n",
              "    .dataframe tbody tr th {\n",
              "        vertical-align: top;\n",
              "    }\n",
              "\n",
              "    .dataframe thead th {\n",
              "        text-align: right;\n",
              "    }\n",
              "</style>\n",
              "<table border=\"1\" class=\"dataframe\">\n",
              "  <thead>\n",
              "    <tr style=\"text-align: right;\">\n",
              "      <th></th>\n",
              "      <th>Close</th>\n",
              "      <th>Prediction</th>\n",
              "    </tr>\n",
              "  </thead>\n",
              "  <tbody>\n",
              "    <tr>\n",
              "      <th>0</th>\n",
              "      <td>18.000000</td>\n",
              "      <td>15.29</td>\n",
              "    </tr>\n",
              "    <tr>\n",
              "      <th>1</th>\n",
              "      <td>18.629999</td>\n",
              "      <td>14.97</td>\n",
              "    </tr>\n",
              "    <tr>\n",
              "      <th>2</th>\n",
              "      <td>18.750000</td>\n",
              "      <td>14.62</td>\n",
              "    </tr>\n",
              "    <tr>\n",
              "      <th>3</th>\n",
              "      <td>19.590000</td>\n",
              "      <td>14.73</td>\n",
              "    </tr>\n",
              "  </tbody>\n",
              "</table>\n",
              "</div>"
            ],
            "text/plain": [
              "       Close  Prediction\n",
              "0  18.000000       15.29\n",
              "1  18.629999       14.97\n",
              "2  18.750000       14.62\n",
              "3  19.590000       14.73"
            ]
          },
          "metadata": {
            "tags": []
          },
          "execution_count": 21
        }
      ]
    },
    {
      "cell_type": "code",
      "metadata": {
        "id": "4SkzetBKMGjW",
        "colab_type": "code",
        "colab": {}
      },
      "source": [
        ""
      ],
      "execution_count": null,
      "outputs": []
    }
  ]
}